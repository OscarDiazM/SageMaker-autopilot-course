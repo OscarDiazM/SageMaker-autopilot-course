{
 "cells": [
  {
   "cell_type": "code",
   "execution_count": 1,
   "metadata": {},
   "outputs": [],
   "source": [
    "\n",
    "import boto3\n",
    "import pandas as pd"
   ]
  },
  {
   "cell_type": "code",
   "execution_count": 2,
   "metadata": {},
   "outputs": [],
   "source": [
    "sm = boto3.Session().client('runtime.sagemaker')\n"
   ]
  },
  {
   "cell_type": "code",
   "execution_count": 3,
   "metadata": {},
   "outputs": [],
   "source": [
    "def infer(endpoint, input_data):\n",
    "    response = sm.invoke_endpoint(EndpointName=endpoint, ContentType='text/csv', Accept='text/csv', Body=input_data)\n",
    "    prediction = response['Body'].read().decode(\"utf-8\")\n",
    "    return prediction"
   ]
  },
  {
   "cell_type": "code",
   "execution_count": 45,
   "metadata": {},
   "outputs": [
    {
     "name": "stdout",
     "output_type": "stream",
     "text": [
      "prediction: 2.0\n"
     ]
    }
   ],
   "source": [
    "endpoint = 'covid-17-14052020'\n",
    "data = '1dsID,1,12,1,1,1,1,1,2,1,9,1,2,2,2,2,2,1,2,2,2,2,2,2,1,2,99,México,99,2,2.0'\n",
    "\n",
    "prediction = float(infer(endpoint, data))\n",
    "print('prediction:', prediction)"
   ]
  },
  {
   "cell_type": "code",
   "execution_count": 15,
   "metadata": {},
   "outputs": [],
   "source": [
    "\n",
    "DATA_PATH = 'data/'\n",
    "df = pd.read_csv(DATA_PATH+'covid-test5.csv')"
   ]
  },
  {
   "cell_type": "code",
   "execution_count": 43,
   "metadata": {},
   "outputs": [],
   "source": [
    "tp = tn = fp = fn = 0\n",
    "two = one = 0\n",
    "\n",
    "for index, row in df.iterrows():\n",
    "    label = float(row['INTUBADO'])\n",
    "    input_data = ','.join(row.drop('INTUBADO').astype(str).tolist())\n",
    "    prediction = float(infer(endpoint, input_data))\n",
    "\n",
    "    if label == 2.0:\n",
    "        two=two+1\n",
    "        if prediction == 2.0:\n",
    "            tp=tp+1\n",
    "        else:\n",
    "            fn=fn+1\n",
    "    else:\n",
    "        one=one+1\n",
    "        if prediction == 1.0:\n",
    "            tn=tn+1\n",
    "        else:\n",
    "            fp=fp+1"
   ]
  },
  {
   "cell_type": "code",
   "execution_count": 44,
   "metadata": {},
   "outputs": [
    {
     "name": "stdout",
     "output_type": "stream",
     "text": [
      "319 319\n",
      "207 7126\n",
      "two 7333 -- One 638\n",
      "correct_two 7126 -- correct_one 319\n",
      "0.9340 0.9572 0.6065 0.7425\n"
     ]
    }
   ],
   "source": [
    "print (\"%d %d\" % (tn, fp))\n",
    "print (\"%d %d\" % (fn, tp))\n",
    "print (\"two\", two, \"-- One\", one)\n",
    "print (\"correct_two\", correct_two, \"-- correct_one\", correct_one)\n",
    "\n",
    "accuracy  = (tp+tn)/(tp+tn+fp+fn)\n",
    "precision = tp/(tp+fp)\n",
    "recall    = tn/(tn+fn)\n",
    "f1        = (2*precision*recall)/(precision+recall)\n",
    "\n",
    "print (\"%.4f %.4f %.4f %.4f\" % (accuracy, precision, recall, f1))"
   ]
  },
  {
   "cell_type": "code",
   "execution_count": null,
   "metadata": {},
   "outputs": [],
   "source": []
  }
 ],
 "metadata": {
  "instance_type": "ml.t3.medium",
  "kernelspec": {
   "display_name": "Python 3 (Data Science)",
   "language": "python",
   "name": "python3__SAGEMAKER_INTERNAL__arn:aws:sagemaker:us-west-2:236514542706:image/datascience-1.0"
  },
  "language_info": {
   "codemirror_mode": {
    "name": "ipython",
    "version": 3
   },
   "file_extension": ".py",
   "mimetype": "text/x-python",
   "name": "python",
   "nbconvert_exporter": "python",
   "pygments_lexer": "ipython3",
   "version": "3.7.6"
  }
 },
 "nbformat": 4,
 "nbformat_minor": 4
}
